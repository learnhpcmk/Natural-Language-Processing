version https://git-lfs.github.com/spec/v1
oid sha256:d51894dd0189ce95070d26fcfad02738837873b4d8b3a0386635e35f8d3c6a6c
size 494541
